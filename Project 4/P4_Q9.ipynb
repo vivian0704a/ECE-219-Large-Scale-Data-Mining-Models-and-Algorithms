{
 "cells": [
  {
   "cell_type": "code",
   "execution_count": 1,
   "id": "d76eed04",
   "metadata": {},
   "outputs": [],
   "source": [
    "import datetime\n",
    "import json\n",
    "import os\n",
    "import pytz\n",
    "\n",
    "import matplotlib.pyplot as plt\n",
    "import numpy as np\n",
    "import pandas as pd\n",
    "\n",
    "from tqdm.auto import tqdm"
   ]
  },
  {
   "cell_type": "markdown",
   "id": "b895b83b",
   "metadata": {},
   "source": [
    "### Question 9.1\n",
    "Report the following statistics for each hashtag, i.e. each file has: \n",
    "- Average number of tweets per hour\n",
    "- Average number of followers of users posting the tweets per tweet (to make it simple, we average over the number of tweets; if a users posted twice, we count the user and the user’s followers twice as well)\n",
    "- Average number of retweets per tweet"
   ]
  },
  {
   "cell_type": "code",
   "execution_count": 2,
   "id": "ebdf31ed",
   "metadata": {},
   "outputs": [],
   "source": [
    "def read_file(filename: str):\n",
    "    data_dir = \"/tmp2/kch/ece219/ECE219_tweet_data\"\n",
    "    data = []\n",
    "    n = 100\n",
    "\n",
    "    with open(os.path.join(data_dir, filename)) as f:\n",
    "        for line in tqdm(f):\n",
    "            all_info = json.loads(line)\n",
    "            taken_info = {\n",
    "                \"type\": all_info[\"type\"],\n",
    "                \"title\": all_info[\"title\"],\n",
    "                \"text\": all_info[\"tweet\"][\"text\"],\n",
    "                \"id\": all_info[\"tweet\"][\"id\"],\n",
    "                \"hashtags\": [\n",
    "                    h[\"text\"].lower() for h in all_info[\"tweet\"][\"entities\"][\"hashtags\"]\n",
    "                ],\n",
    "                \"retweet_count\": all_info[\"tweet\"][\"retweet_count\"],\n",
    "                \"author_followers\": all_info[\"author\"][\"followers\"],\n",
    "                \"original_author_followers\": all_info[\"original_author\"][\"followers\"],\n",
    "                \"citation_date\": all_info[\"citation_date\"],\n",
    "                \"ranking_score\": all_info[\"metrics\"][\"ranking_score\"],\n",
    "                \"citations\": all_info[\"metrics\"][\"citations\"][\"total\"],\n",
    "                \"impressions\": all_info[\"metrics\"][\"impressions\"],\n",
    "            }\n",
    "            data.append(taken_info)\n",
    "    #         if len(data) == n:\n",
    "    #             break\n",
    "\n",
    "    data_df = pd.DataFrame(data)\n",
    "    return data_df\n",
    "    \n",
    "def get_filepaths(rootdir: str):\n",
    "    res = []\n",
    "    for subdir, dirs, files in os.walk(rootdir):\n",
    "        for file in files:\n",
    "            filepath = subdir + os.sep + file\n",
    "            if filepath.endswith(\".txt\"):\n",
    "                res.append(filepath)\n",
    "    return res\n",
    "    \n",
    "def file_statistics(df: str):\n",
    "    pst_tz = pytz.timezone('America/Los_Angeles')\n",
    "    df['citation_date_datetime'] = df['citation_date'].apply(datetime.datetime.fromtimestamp, args=(pst_tz,))\n",
    "    max_citation_date = max(df['citation_date_datetime'])\n",
    "    min_citation_date = min(df['citation_date_datetime'])\n",
    "    \n",
    "    avg_tweets_per_hour = len(df) / ((max_citation_date - min_citation_date).total_seconds() / 60 / 60)\n",
    "    avg_followers_posting_tweets = df['citations'].sum() / len(df)\n",
    "    avg_retweet_per_tweet = df['author_followers'].sum() / len(df)\n",
    "\n",
    "    print(f'Average tweets per hour: {avg_tweets_per_hour}')    \n",
    "    print(f'Average number of users posting tweets per tweet: {avg_followers_posting_tweets}')\n",
    "    print(f'Average number of retweet per tweet: {avg_retweet_per_tweet}')"
   ]
  },
  {
   "cell_type": "code",
   "execution_count": 3,
   "id": "d3e43954",
   "metadata": {},
   "outputs": [
    {
     "data": {
      "application/vnd.jupyter.widget-view+json": {
       "model_id": "6e3ef39cde17430f8306607db8e54f7e",
       "version_major": 2,
       "version_minor": 0
      },
      "text/plain": [
       "0it [00:00, ?it/s]"
      ]
     },
     "metadata": {},
     "output_type": "display_data"
    },
    {
     "data": {
      "application/vnd.jupyter.widget-view+json": {
       "model_id": "7d6bf4b6f3f74c4fbaed07aae4487b6c",
       "version_major": 2,
       "version_minor": 0
      },
      "text/plain": [
       "0it [00:00, ?it/s]"
      ]
     },
     "metadata": {},
     "output_type": "display_data"
    },
    {
     "data": {
      "application/vnd.jupyter.widget-view+json": {
       "model_id": "83a1f284397f4a55837b93bf3d82fc16",
       "version_major": 2,
       "version_minor": 0
      },
      "text/plain": [
       "0it [00:00, ?it/s]"
      ]
     },
     "metadata": {},
     "output_type": "display_data"
    },
    {
     "data": {
      "application/vnd.jupyter.widget-view+json": {
       "model_id": "79100c7da12d435b902b198201948471",
       "version_major": 2,
       "version_minor": 0
      },
      "text/plain": [
       "0it [00:00, ?it/s]"
      ]
     },
     "metadata": {},
     "output_type": "display_data"
    },
    {
     "data": {
      "application/vnd.jupyter.widget-view+json": {
       "model_id": "2cbe57e5c3f54ddfbca953d6db5f4d23",
       "version_major": 2,
       "version_minor": 0
      },
      "text/plain": [
       "0it [00:00, ?it/s]"
      ]
     },
     "metadata": {},
     "output_type": "display_data"
    },
    {
     "data": {
      "application/vnd.jupyter.widget-view+json": {
       "model_id": "72007ff0315f40679c0a87a71ece593a",
       "version_major": 2,
       "version_minor": 0
      },
      "text/plain": [
       "0it [00:00, ?it/s]"
      ]
     },
     "metadata": {},
     "output_type": "display_data"
    }
   ],
   "source": [
    "rootdir = \"/tmp2/kch/ece219/ECE219_tweet_data\"\n",
    "dataset = {}\n",
    "\n",
    "filepaths = get_filepaths(rootdir)\n",
    "dataset_dict = {filepath: read_file(filepath) for filepath in filepaths}"
   ]
  },
  {
   "cell_type": "code",
   "execution_count": 4,
   "id": "d6101c54",
   "metadata": {},
   "outputs": [
    {
     "name": "stdout",
     "output_type": "stream",
     "text": [
      "/tmp2/kch/ece219/ECE219_tweet_data/tweets_#superbowl.txt\n",
      "Average tweets per hour: 2072.1184017040796\n",
      "Average number of users posting tweets per tweet: 2.3911895819207736\n",
      "Average number of retweet per tweet: 8814.96799424623\n",
      "\n",
      "/tmp2/kch/ece219/ECE219_tweet_data/tweets_#sb49.txt\n",
      "Average tweets per hour: 1276.8570598680474\n",
      "Average number of users posting tweets per tweet: 2.52713444111402\n",
      "Average number of retweet per tweet: 10374.160292019487\n",
      "\n",
      "/tmp2/kch/ece219/ECE219_tweet_data/tweets_#gohawks.txt\n",
      "Average tweets per hour: 292.48785062173687\n",
      "Average number of users posting tweets per tweet: 2.0132093991319877\n",
      "Average number of retweet per tweet: 2217.9237355281984\n",
      "\n",
      "/tmp2/kch/ece219/ECE219_tweet_data/tweets_#nfl.txt\n",
      "Average tweets per hour: 397.0213901819841\n",
      "Average number of users posting tweets per tweet: 1.5344602655543254\n",
      "Average number of retweet per tweet: 4662.37544523693\n",
      "\n",
      "/tmp2/kch/ece219/ECE219_tweet_data/tweets_#gopatriots.txt\n",
      "Average tweets per hour: 40.95469800606194\n",
      "Average number of users posting tweets per tweet: 1.4081919101697078\n",
      "Average number of retweet per tweet: 1427.2526051635405\n",
      "\n",
      "/tmp2/kch/ece219/ECE219_tweet_data/tweets_#patriots.txt\n",
      "Average tweets per hour: 750.89426460689\n",
      "Average number of users posting tweets per tweet: 1.7852871288476946\n",
      "Average number of retweet per tweet: 3280.4635616550277\n",
      "\n"
     ]
    }
   ],
   "source": [
    "for filepath in filepaths:\n",
    "    print(filepath)\n",
    "    file_statistics(dataset_dict[filepath])\n",
    "    print()"
   ]
  },
  {
   "cell_type": "code",
   "execution_count": null,
   "id": "d243d434",
   "metadata": {},
   "outputs": [],
   "source": []
  },
  {
   "cell_type": "markdown",
   "id": "3896ed6c",
   "metadata": {},
   "source": [
    "### Question 9.2\n",
    "Plot “number of tweets in hour” over time for #SuperBowl and #NFL (a bar plot with 1-hour bins). The tweets are stored in separate files for different hashtags and files are named as tweet [#hashtag].txt. "
   ]
  },
  {
   "cell_type": "code",
   "execution_count": 5,
   "id": "d972bb65",
   "metadata": {},
   "outputs": [],
   "source": [
    "def tweets_per_hour(df: pd.DataFrame):\n",
    "    return df[['title']].groupby([df['citation_date_datetime'].dt.date, \n",
    "                                  df['citation_date_datetime'].dt.hour]).count()"
   ]
  },
  {
   "cell_type": "code",
   "execution_count": 6,
   "id": "ddd1a4a9",
   "metadata": {},
   "outputs": [],
   "source": [
    "def tweets_per_hour_plot(df: pd.DataFrame, title_prefix=\"\", sample_freq=20):\n",
    "    \n",
    "    group_df = tweets_per_hour(df)\n",
    "    fig = plt.figure(figsize = (10, 5))\n",
    "\n",
    "    plt.bar([f\"{x[0]} {x[1]}H\" for x in group_df.index], \n",
    "            group_df.melt()['value'],\n",
    "            width=1\n",
    "           )\n",
    "    \n",
    "    plt.xticks(np.arange(0, len(group_df.index), step=sample_freq), \n",
    "               [f\"{x[0]} {x[1]}H\" for x in group_df.index][::sample_freq], \n",
    "               rotation=90)\n",
    "    plt.xlabel(\"Citation Datetime\")\n",
    "    plt.ylabel(\"Number of Tweets\")\n",
    "    plt.title(f\"{title_prefix} Number of Tweets in a Hour over Time\")\n",
    "    plt.show()"
   ]
  },
  {
   "cell_type": "code",
   "execution_count": 7,
   "id": "5cfe223f",
   "metadata": {},
   "outputs": [
    {
     "data": {
      "text/html": [
       "<div>\n",
       "<style scoped>\n",
       "    .dataframe tbody tr th:only-of-type {\n",
       "        vertical-align: middle;\n",
       "    }\n",
       "\n",
       "    .dataframe tbody tr th {\n",
       "        vertical-align: top;\n",
       "    }\n",
       "\n",
       "    .dataframe thead th {\n",
       "        text-align: right;\n",
       "    }\n",
       "</style>\n",
       "<table border=\"1\" class=\"dataframe\">\n",
       "  <thead>\n",
       "    <tr style=\"text-align: right;\">\n",
       "      <th></th>\n",
       "      <th>type</th>\n",
       "      <th>title</th>\n",
       "      <th>text</th>\n",
       "      <th>id</th>\n",
       "      <th>hashtags</th>\n",
       "      <th>retweet_count</th>\n",
       "      <th>author_followers</th>\n",
       "      <th>original_author_followers</th>\n",
       "      <th>citation_date</th>\n",
       "      <th>ranking_score</th>\n",
       "      <th>citations</th>\n",
       "      <th>impressions</th>\n",
       "      <th>citation_date_datetime</th>\n",
       "    </tr>\n",
       "  </thead>\n",
       "  <tbody>\n",
       "    <tr>\n",
       "      <th>0</th>\n",
       "      <td>retweet:native</td>\n",
       "      <td>Who do you have?!?! #nfl #NFLPlayoffs #Packers...</td>\n",
       "      <td>Who do you have?!?! #nfl #NFLPlayoffs #Packers...</td>\n",
       "      <td>550144662250729472</td>\n",
       "      <td>[nfl, nflplayoffs, packers, patriots, broncos,...</td>\n",
       "      <td>0</td>\n",
       "      <td>41.0</td>\n",
       "      <td>176.0</td>\n",
       "      <td>1421517546</td>\n",
       "      <td>6.352194</td>\n",
       "      <td>4</td>\n",
       "      <td>42</td>\n",
       "      <td>2015-01-17 09:59:06-08:00</td>\n",
       "    </tr>\n",
       "    <tr>\n",
       "      <th>1</th>\n",
       "      <td>retweet:native</td>\n",
       "      <td>http://t.co/H5JADypiEB #billbelichick #NFL #NF...</td>\n",
       "      <td>http://t.co/H5JADypiEB #billbelichick #NFL #NF...</td>\n",
       "      <td>550872449974558720</td>\n",
       "      <td>[billbelichick, nfl, nflplayoffs, patsnation, ...</td>\n",
       "      <td>0</td>\n",
       "      <td>361.0</td>\n",
       "      <td>1611.0</td>\n",
       "      <td>1421258906</td>\n",
       "      <td>4.211227</td>\n",
       "      <td>2</td>\n",
       "      <td>272</td>\n",
       "      <td>2015-01-14 10:08:26-08:00</td>\n",
       "    </tr>\n",
       "    <tr>\n",
       "      <th>2</th>\n",
       "      <td>retweet:native</td>\n",
       "      <td>One more week until the #Seahawks begin the #N...</td>\n",
       "      <td>One more week until the #Seahawks begin the #N...</td>\n",
       "      <td>551827857262280704</td>\n",
       "      <td>[seahawks, nfl, hawks]</td>\n",
       "      <td>0</td>\n",
       "      <td>6.0</td>\n",
       "      <td>306.0</td>\n",
       "      <td>1421518663</td>\n",
       "      <td>3.417832</td>\n",
       "      <td>2</td>\n",
       "      <td>4</td>\n",
       "      <td>2015-01-17 10:17:43-08:00</td>\n",
       "    </tr>\n",
       "    <tr>\n",
       "      <th>3</th>\n",
       "      <td>retweet:native</td>\n",
       "      <td>We have NFLSHOP on our site! 3% cash back and ...</td>\n",
       "      <td>We have NFLSHOP on our site! 3% cash back and ...</td>\n",
       "      <td>552225977745833984</td>\n",
       "      <td>[nfl, cowboys, broncos, patriots, packers]</td>\n",
       "      <td>2</td>\n",
       "      <td>1364.0</td>\n",
       "      <td>181.0</td>\n",
       "      <td>1421380685</td>\n",
       "      <td>6.418528</td>\n",
       "      <td>2</td>\n",
       "      <td>1365</td>\n",
       "      <td>2015-01-15 19:58:05-08:00</td>\n",
       "    </tr>\n",
       "    <tr>\n",
       "      <th>4</th>\n",
       "      <td>retweet:native</td>\n",
       "      <td>Most @SuperBowl wins: #Steelers (6), #49ers &amp;a...</td>\n",
       "      <td>Most @SuperBowl wins: #Steelers (6), #49ers &amp;a...</td>\n",
       "      <td>552561374577299458</td>\n",
       "      <td>[steelers, 49ers, cowboys, packers, giants, ra...</td>\n",
       "      <td>0</td>\n",
       "      <td>580.0</td>\n",
       "      <td>36489.0</td>\n",
       "      <td>1421257471</td>\n",
       "      <td>3.915142</td>\n",
       "      <td>14</td>\n",
       "      <td>564</td>\n",
       "      <td>2015-01-14 09:44:31-08:00</td>\n",
       "    </tr>\n",
       "    <tr>\n",
       "      <th>...</th>\n",
       "      <td>...</td>\n",
       "      <td>...</td>\n",
       "      <td>...</td>\n",
       "      <td>...</td>\n",
       "      <td>...</td>\n",
       "      <td>...</td>\n",
       "      <td>...</td>\n",
       "      <td>...</td>\n",
       "      <td>...</td>\n",
       "      <td>...</td>\n",
       "      <td>...</td>\n",
       "      <td>...</td>\n",
       "      <td>...</td>\n",
       "    </tr>\n",
       "    <tr>\n",
       "      <th>233017</th>\n",
       "      <td>tweet</td>\n",
       "      <td>El Cajas y sus hermosos habitantes  #AllYouNee...</td>\n",
       "      <td>El Cajas y sus hermosos habitantes  #AllYouNee...</td>\n",
       "      <td>564124624263585792</td>\n",
       "      <td>[allyouneedisecuador, nfl, sb49]</td>\n",
       "      <td>0</td>\n",
       "      <td>1589.0</td>\n",
       "      <td>1589.0</td>\n",
       "      <td>1423332766</td>\n",
       "      <td>3.819176</td>\n",
       "      <td>1</td>\n",
       "      <td>1563</td>\n",
       "      <td>2015-02-07 10:12:46-08:00</td>\n",
       "    </tr>\n",
       "    <tr>\n",
       "      <th>233018</th>\n",
       "      <td>tweet</td>\n",
       "      <td>Watching #nfl network. Replaying #sb49. Never ...</td>\n",
       "      <td>Watching #nfl network. Replaying #sb49. Never ...</td>\n",
       "      <td>564127112316350464</td>\n",
       "      <td>[nfl, sb49]</td>\n",
       "      <td>0</td>\n",
       "      <td>391.0</td>\n",
       "      <td>391.0</td>\n",
       "      <td>1423333359</td>\n",
       "      <td>4.184327</td>\n",
       "      <td>1</td>\n",
       "      <td>386</td>\n",
       "      <td>2015-02-07 10:22:39-08:00</td>\n",
       "    </tr>\n",
       "    <tr>\n",
       "      <th>233019</th>\n",
       "      <td>tweet</td>\n",
       "      <td>Four players were fined for the brawl late in ...</td>\n",
       "      <td>Four players were fined for the brawl late in ...</td>\n",
       "      <td>564130766901477377</td>\n",
       "      <td>[nfl, sb49]</td>\n",
       "      <td>0</td>\n",
       "      <td>360.0</td>\n",
       "      <td>360.0</td>\n",
       "      <td>1423334230</td>\n",
       "      <td>3.945940</td>\n",
       "      <td>1</td>\n",
       "      <td>200</td>\n",
       "      <td>2015-02-07 10:37:10-08:00</td>\n",
       "    </tr>\n",
       "    <tr>\n",
       "      <th>233020</th>\n",
       "      <td>tweet</td>\n",
       "      <td>Huge touchdown by our guy @dannyamendola Don’t...</td>\n",
       "      <td>Huge touchdown by our guy @dannyamendola Don’t...</td>\n",
       "      <td>564135259777028096</td>\n",
       "      <td>[sb49, nflmobile]</td>\n",
       "      <td>0</td>\n",
       "      <td>69.0</td>\n",
       "      <td>69.0</td>\n",
       "      <td>1423335301</td>\n",
       "      <td>3.823271</td>\n",
       "      <td>1</td>\n",
       "      <td>34</td>\n",
       "      <td>2015-02-07 10:55:01-08:00</td>\n",
       "    </tr>\n",
       "    <tr>\n",
       "      <th>233021</th>\n",
       "      <td>tweet</td>\n",
       "      <td>Big time takeaway by @Seahawks! Make sure you ...</td>\n",
       "      <td>Big time takeaway by @Seahawks! Make sure you ...</td>\n",
       "      <td>564135403708776448</td>\n",
       "      <td>[sb49, nflmobile]</td>\n",
       "      <td>0</td>\n",
       "      <td>69.0</td>\n",
       "      <td>69.0</td>\n",
       "      <td>1423335336</td>\n",
       "      <td>3.863007</td>\n",
       "      <td>1</td>\n",
       "      <td>34</td>\n",
       "      <td>2015-02-07 10:55:36-08:00</td>\n",
       "    </tr>\n",
       "  </tbody>\n",
       "</table>\n",
       "<p>233022 rows × 13 columns</p>\n",
       "</div>"
      ],
      "text/plain": [
       "                  type                                              title  \\\n",
       "0       retweet:native  Who do you have?!?! #nfl #NFLPlayoffs #Packers...   \n",
       "1       retweet:native  http://t.co/H5JADypiEB #billbelichick #NFL #NF...   \n",
       "2       retweet:native  One more week until the #Seahawks begin the #N...   \n",
       "3       retweet:native  We have NFLSHOP on our site! 3% cash back and ...   \n",
       "4       retweet:native  Most @SuperBowl wins: #Steelers (6), #49ers &a...   \n",
       "...                ...                                                ...   \n",
       "233017           tweet  El Cajas y sus hermosos habitantes  #AllYouNee...   \n",
       "233018           tweet  Watching #nfl network. Replaying #sb49. Never ...   \n",
       "233019           tweet  Four players were fined for the brawl late in ...   \n",
       "233020           tweet  Huge touchdown by our guy @dannyamendola Don’t...   \n",
       "233021           tweet  Big time takeaway by @Seahawks! Make sure you ...   \n",
       "\n",
       "                                                     text                  id  \\\n",
       "0       Who do you have?!?! #nfl #NFLPlayoffs #Packers...  550144662250729472   \n",
       "1       http://t.co/H5JADypiEB #billbelichick #NFL #NF...  550872449974558720   \n",
       "2       One more week until the #Seahawks begin the #N...  551827857262280704   \n",
       "3       We have NFLSHOP on our site! 3% cash back and ...  552225977745833984   \n",
       "4       Most @SuperBowl wins: #Steelers (6), #49ers &a...  552561374577299458   \n",
       "...                                                   ...                 ...   \n",
       "233017  El Cajas y sus hermosos habitantes  #AllYouNee...  564124624263585792   \n",
       "233018  Watching #nfl network. Replaying #sb49. Never ...  564127112316350464   \n",
       "233019  Four players were fined for the brawl late in ...  564130766901477377   \n",
       "233020  Huge touchdown by our guy @dannyamendola Don’t...  564135259777028096   \n",
       "233021  Big time takeaway by @Seahawks! Make sure you ...  564135403708776448   \n",
       "\n",
       "                                                 hashtags  retweet_count  \\\n",
       "0       [nfl, nflplayoffs, packers, patriots, broncos,...              0   \n",
       "1       [billbelichick, nfl, nflplayoffs, patsnation, ...              0   \n",
       "2                                  [seahawks, nfl, hawks]              0   \n",
       "3              [nfl, cowboys, broncos, patriots, packers]              2   \n",
       "4       [steelers, 49ers, cowboys, packers, giants, ra...              0   \n",
       "...                                                   ...            ...   \n",
       "233017                   [allyouneedisecuador, nfl, sb49]              0   \n",
       "233018                                        [nfl, sb49]              0   \n",
       "233019                                        [nfl, sb49]              0   \n",
       "233020                                  [sb49, nflmobile]              0   \n",
       "233021                                  [sb49, nflmobile]              0   \n",
       "\n",
       "        author_followers  original_author_followers  citation_date  \\\n",
       "0                   41.0                      176.0     1421517546   \n",
       "1                  361.0                     1611.0     1421258906   \n",
       "2                    6.0                      306.0     1421518663   \n",
       "3                 1364.0                      181.0     1421380685   \n",
       "4                  580.0                    36489.0     1421257471   \n",
       "...                  ...                        ...            ...   \n",
       "233017            1589.0                     1589.0     1423332766   \n",
       "233018             391.0                      391.0     1423333359   \n",
       "233019             360.0                      360.0     1423334230   \n",
       "233020              69.0                       69.0     1423335301   \n",
       "233021              69.0                       69.0     1423335336   \n",
       "\n",
       "        ranking_score  citations  impressions    citation_date_datetime  \n",
       "0            6.352194          4           42 2015-01-17 09:59:06-08:00  \n",
       "1            4.211227          2          272 2015-01-14 10:08:26-08:00  \n",
       "2            3.417832          2            4 2015-01-17 10:17:43-08:00  \n",
       "3            6.418528          2         1365 2015-01-15 19:58:05-08:00  \n",
       "4            3.915142         14          564 2015-01-14 09:44:31-08:00  \n",
       "...               ...        ...          ...                       ...  \n",
       "233017       3.819176          1         1563 2015-02-07 10:12:46-08:00  \n",
       "233018       4.184327          1          386 2015-02-07 10:22:39-08:00  \n",
       "233019       3.945940          1          200 2015-02-07 10:37:10-08:00  \n",
       "233020       3.823271          1           34 2015-02-07 10:55:01-08:00  \n",
       "233021       3.863007          1           34 2015-02-07 10:55:36-08:00  \n",
       "\n",
       "[233022 rows x 13 columns]"
      ]
     },
     "execution_count": 7,
     "metadata": {},
     "output_type": "execute_result"
    }
   ],
   "source": [
    "dataset_dict[f\"{rootdir}/tweets_#nfl.txt\"]"
   ]
  },
  {
   "cell_type": "code",
   "execution_count": 8,
   "id": "09976865",
   "metadata": {},
   "outputs": [
    {
     "data": {
      "image/png": "[encoded data removed]",
      "text/plain": [
       "<Figure size 1000x500 with 1 Axes>"
      ]
     },
     "metadata": {},
     "output_type": "display_data"
    }
   ],
   "source": [
    "tweets_per_hour_plot(dataset_dict[f\"{rootdir}/tweets_#nfl.txt\"], title_prefix=\"NFL\")"
   ]
  },
  {
   "cell_type": "code",
   "execution_count": 9,
   "id": "6e852944",
   "metadata": {},
   "outputs": [
    {
     "data": {
      "image/png": "[encoded data removed]",
      "text/plain": [
       "<Figure size 1000x500 with 1 Axes>"
      ]
     },
     "metadata": {},
     "output_type": "display_data"
    }
   ],
   "source": [
    "tweets_per_hour_plot(dataset_dict[f\"{rootdir}/tweets_#superbowl.txt\"], title_prefix=\"Super Bowl\")"
   ]
  },
  {
   "cell_type": "code",
   "execution_count": null,
   "id": "10be0c21",
   "metadata": {},
   "outputs": [],
   "source": []
  }
 ],
 "metadata": {
  "kernelspec": {
   "display_name": "Python 3 (ipykernel)",
   "language": "python",
   "name": "python3"
  },
  "language_info": {
   "codemirror_mode": {
    "name": "ipython",
    "version": 3
   },
   "file_extension": ".py",
   "mimetype": "text/x-python",
   "name": "python",
   "nbconvert_exporter": "python",
   "pygments_lexer": "ipython3",
   "version": "3.9.0"
  }
 },
 "nbformat": 4,
 "nbformat_minor": 5
}
